{
 "cells": [
  {
   "cell_type": "code",
   "execution_count": 1,
   "metadata": {},
   "outputs": [
    {
     "name": "stderr",
     "output_type": "stream",
     "text": [
      "/mnt/jinweilin/anaconda3/envs/kg/lib/python3.8/site-packages/tqdm/auto.py:21: TqdmWarning: IProgress not found. Please update jupyter and ipywidgets. See https://ipywidgets.readthedocs.io/en/stable/user_install.html\n",
      "  from .autonotebook import tqdm as notebook_tqdm\n",
      "/mnt/jinweilin/anaconda3/envs/kg/lib/python3.8/site-packages/pydantic/_internal/_fields.py:160: UserWarning: Field \"model_id\" has conflict with protected namespace \"model_\".\n",
      "\n",
      "You may be able to resolve this warning by setting `model_config['protected_namespaces'] = ()`.\n",
      "  warnings.warn(\n"
     ]
    }
   ],
   "source": [
    "from llama_index.core import Settings, VectorStoreIndex, SimpleDirectoryReader, StorageContext, load_index_from_storage, QueryBundle\n",
    "from llama_index.core.schema import MetadataMode\n",
    "from llama_index.embeddings.huggingface import HuggingFaceEmbedding\n",
    "from transformers import AutoTokenizer, AutoModelForCausalLM\n",
    "from llama_index.llms.huggingface import (\n",
    "    HuggingFaceInferenceAPI,\n",
    "    HuggingFaceLLM,\n",
    ")"
   ]
  },
  {
   "cell_type": "code",
   "execution_count": 2,
   "metadata": {},
   "outputs": [],
   "source": [
    "checkpoint_path = \"/mnt/resource/public_models/Llama-2-7b-chat-hf\""
   ]
  },
  {
   "cell_type": "code",
   "execution_count": null,
   "metadata": {},
   "outputs": [],
   "source": [
    "# 构建自定义prompt\n",
    "from llama_index.core import PromptTemplate\n",
    "\n",
    "# 定义system prompt\n",
    "SYSTEM_PROMPT = \"\"\"你是一个医疗人工智能助手。\"\"\"\n",
    "query_wrapper_prompt = PromptTemplate(\n",
    "    \"[INST]<<SYS>>\\n\" + SYSTEM_PROMPT + \"<</SYS>>\\n\\n{query_str}[/INST] \"\n",
    ")\n",
    "\n",
    "# 定义qa prompt\n",
    "qa_prompt_tmpl_str = (\n",
    "    \"上下文信息如下。\\n\"\n",
    "    \"---------------------\\n\"\n",
    "    \"{context_str}\\n\"\n",
    "    \"---------------------\\n\"\n",
    "    \"请根据上下文信息而不是先验知识来回答以下的查询。\"\n",
    "    \"作为一个医疗人工智能助手，你的回答要尽可能严谨。\\n\"\n",
    "    \"Query: {query_str}\\n\"\n",
    "    \"Answer: \"\n",
    ")\n",
    "qa_prompt_tmpl = PromptTemplate(qa_prompt_tmpl_str)\n",
    "\n",
    "# 定义refine prompt\n",
    "refine_prompt_tmpl_str = (\n",
    "    \"原始查询如下：{query_str}\"\n",
    "    \"我们提供了现有答案：{existing_answer}\"\n",
    "    \"我们有机会通过下面的更多上下文来完善现有答案（仅在需要时）。\"\n",
    "    \"------------\"\n",
    "    \"{context_msg}\"\n",
    "    \"------------\"\n",
    "    \"考虑到新的上下文，优化原始答案以更好地回答查询。 如果上下文没有用，请返回原始答案。\"\n",
    "    \"Refined Answer:\"\n",
    ")\n",
    "refine_prompt_tmpl = PromptTemplate(refine_prompt_tmpl_str)"
   ]
  },
  {
   "cell_type": "code",
   "execution_count": 3,
   "metadata": {},
   "outputs": [],
   "source": [
    "# set tokenizer to match LLM\n",
    "Settings.tokenizer = AutoTokenizer.from_pretrained(\n",
    "    checkpoint_path,\n",
    "    torch_dtype=\"auto\",\n",
    "    trust_remote_code=True\n",
    ")"
   ]
  },
  {
   "cell_type": "code",
   "execution_count": null,
   "metadata": {},
   "outputs": [],
   "source": [
    "# set the LLM\n",
    "Settings.llm = HuggingFaceLLM(\n",
    "        model_name = checkpoint_path,\n",
    "        tokenizer_name = checkpoint_path \n",
    "    )"
   ]
  },
  {
   "cell_type": "code",
   "execution_count": null,
   "metadata": {},
   "outputs": [],
   "source": [
    "# 使用llama-index创建本地大模型\n",
    "Settings.llm = HuggingFaceLLM(\n",
    "    context_window=4096,\n",
    "    max_new_tokens=2048,\n",
    "    generate_kwargs={\"temperature\": 0.7, \"do_sample\": False},\n",
    "    query_wrapper_prompt=query_wrapper_prompt,\n",
    "    tokenizer_name=checkpoint_path,\n",
    "    model_name=checkpoint_path,\n",
    "    device_map=\"auto\",\n",
    "    model_kwargs={\"torch_dtype\": \"auto\"},\n",
    ")"
   ]
  },
  {
   "cell_type": "code",
   "execution_count": 4,
   "metadata": {},
   "outputs": [],
   "source": [
    "# 本地模型api\n",
    "from custom_llm import MyCustomLLM\n",
    "Settings.llm = MyCustomLLM()"
   ]
  },
  {
   "cell_type": "code",
   "execution_count": 5,
   "metadata": {},
   "outputs": [],
   "source": [
    "# set the embed model\n",
    "Settings.embed_model = HuggingFaceEmbedding(\n",
    "    model_name=\"/mnt/jinweilin/package/bge-small-en-v1.5\"\n",
    ")"
   ]
  },
  {
   "cell_type": "code",
   "execution_count": 6,
   "metadata": {},
   "outputs": [],
   "source": [
    "from llama_index.core.callbacks import LlamaDebugHandler, CallbackManager\n",
    "\n",
    "# 使用LlamaDebugHandler构建事件回溯器，以追踪LlamaIndex执行过程中发生的事件\n",
    "llama_debug = LlamaDebugHandler(print_trace_on_end=True)\n",
    "callback_manager = CallbackManager([llama_debug])\n",
    "Settings.callback_manager = callback_manager"
   ]
  },
  {
   "cell_type": "code",
   "execution_count": 7,
   "metadata": {},
   "outputs": [],
   "source": [
    "from llama_index.core import Document\n",
    "from llama_index.core.schema import MetadataMode\n",
    "import json\n",
    "\n",
    "# 读取文档\n",
    "with open(\"../electronic_content_duplication.jsonl\",\"r\") as f:\n",
    "    documents = []\n",
    "    for line in f.readlines():\n",
    "        # json: product_name, content\n",
    "        json_item = json.loads(line)\n",
    "        document = Document(\n",
    "            text=json_item['content'],\n",
    "            metadata={\n",
    "                \"file_name\": json_item['product_name'],\n",
    "                \"product_name\": json_item['product_name']\n",
    "            }\n",
    "        )\n",
    "        documents.append(document)\n",
    "\n",
    "# 切分文档，建立索引\n",
    "index = VectorStoreIndex.from_documents(\n",
    "    documents,\n",
    ")"
   ]
  },
  {
   "cell_type": "code",
   "execution_count": null,
   "metadata": {},
   "outputs": [],
   "source": [
    "# 读取文档\n",
    "documents = SimpleDirectoryReader(\"data\").load_data()\n",
    "# 切分文档，建立索引\n",
    "index = VectorStoreIndex.from_documents(\n",
    "    documents,\n",
    ")"
   ]
  },
  {
   "cell_type": "code",
   "execution_count": 8,
   "metadata": {},
   "outputs": [],
   "source": [
    "# 存储文档embedding\n",
    "index.storage_context.persist(persist_dir='electronic_name_emb')"
   ]
  },
  {
   "cell_type": "code",
   "execution_count": 7,
   "metadata": {},
   "outputs": [
    {
     "name": "stdout",
     "output_type": "stream",
     "text": [
      "**********\n",
      "Trace: index_construction\n",
      "**********\n"
     ]
    }
   ],
   "source": [
    "# 读取文档embedding\n",
    "storage_context = StorageContext.from_defaults(persist_dir=\"electronic_name_emb\")\n",
    "index = load_index_from_storage(storage_context)"
   ]
  },
  {
   "cell_type": "code",
   "execution_count": null,
   "metadata": {},
   "outputs": [],
   "source": [
    "# 使用不同的检索和查询方法\n",
    "from llama_index.core import get_response_synthesizer\n",
    "from llama_index.core.indices.vector_store import VectorIndexRetriever\n",
    "from llama_index.core.postprocessor import SimilarityPostprocessor\n",
    "from llama_index.core.query_engine import RetrieverQueryEngine\n",
    "from llama_index.core.response_synthesizers import ResponseMode\n",
    "\n",
    "# 构建retriever\n",
    "retriever = VectorIndexRetriever(\n",
    "    index=index,\n",
    "    similarity_top_k=5,\n",
    ")\n",
    "\n",
    "# 构建response synthesizer\n",
    "response_synthesizer = get_response_synthesizer(\n",
    "    response_mode=ResponseMode.REFINE\n",
    ")\n",
    "\n",
    "# 构建查询引擎\n",
    "query_engine = RetrieverQueryEngine(\n",
    "    retriever=retriever,\n",
    "    response_synthesizer=response_synthesizer,\n",
    "    node_postprocessors=[SimilarityPostprocessor(similarity_cutoff=0.6)],\n",
    ")"
   ]
  },
  {
   "cell_type": "code",
   "execution_count": 8,
   "metadata": {},
   "outputs": [],
   "source": [
    "query_engine = index.as_query_engine()"
   ]
  },
  {
   "cell_type": "code",
   "execution_count": 29,
   "metadata": {},
   "outputs": [
    {
     "name": "stdout",
     "output_type": "stream",
     "text": [
      "**********\n",
      "Trace: query\n",
      "    |_retrieve -> 0.052081 seconds\n",
      "      |_embedding -> 0.021501 seconds\n",
      "**********\n",
      "Node ID: 91fe3424-f850-46f5-b114-c6fafc8e549d\n",
      "Text: sg-micro.com  TYPICAL PERFORMANCE CHARACTERISTICS (continued)\n",
      "Total Unadjusted Error (TUE Minimum) (Range 1)       Total Unadjusted\n",
      "Error (TUE Minimum) (Range 2)            Typical FFT Plot    Amplitude\n",
      "(dB)  0    -20    -40    -60    -80    -100    -120    -140    -160\n",
      "0       100      200      300     400     500      Frequenc...\n",
      "Score:  0.794\n",
      "\n",
      "Node ID: 0f01f23a-134f-473d-bd56-0a1645adad8b\n",
      "Text: Input Frequency       Input Leakage Current vs. Temperature\n",
      "-1.0 -0.8 -0.6 -0.4 -0.2 0.0 0.2 0.4 0.6 0.8 1.0 0 1 2 3 4 5 6 7 8 9\n",
      "10 11 12 13 14 15 Gain Error  (LSB)  Channel Number  VA = 5V, VBD =\n",
      "5V, fS = 1MSPS  -1.0 -0.8 -0.6 -0.4 -0.2 0.0 0.2 0.4 0.6 0.8 1.0 0 1 2\n",
      "3 4 5 6 7 8 9 10 11 12 13 14 15 Offset Error  (LSB)  Channel Number\n",
      "V...\n",
      "Score:  0.792\n",
      "\n",
      "Node ID: 2d904628-cb01-4653-9ca5-48db9ac00b01\n",
      "Text: SGM5200  12-Bit, 1MSPS, 16 Channels,  Single-Ended, Serial\n",
      "Interface ADC        SG Micro Corp  www.sg-micro.com  SEPTEMBER 2022 –\n",
      "REV. A. 1    GENERAL DESCRIPTION  The SGM5200 is a 12-bit, multi-\n",
      "channel input, successive  approximation (SAR) analog-to-digital\n",
      "converter (ADC).  The SGM5200 analog power supply range is 2.7V to\n",
      "5.25V. The SGM5200 ...\n",
      "Score:  0.785\n",
      "\n",
      "Node ID: 57106708-80d4-4fbd-ac65-68fe6da53285\n",
      "Text: RECOMMENDED OPERATING CONDITIONS  Analog Supply Voltage Range\n",
      "..........................  2.7V to 5.25V  Digital I/O Supply Voltage\n",
      "Range .......................... 1.7V to VA  Reference Voltage\n",
      "Range.........................................  2V to 3V  SCLK\n",
      "Frequency ........................................................\n",
      "20MHz  Operating Tem...\n",
      "Score:  0.775\n",
      "\n",
      "Node ID: 8784476b-cfbe-4849-b64e-9f877c8396a7\n",
      "Text: Temperature (Range 1)        Gain Error vs. Temperature (Range\n",
      "2)           Offset Error vs. Temperature (Range 1)       Offset Error\n",
      "vs. Temperature (Range 2)           Total Unadjusted Error (TUE\n",
      "Maximum) (Range 1)       Total Unadjusted Error (TUE Maximum) (Range\n",
      "2)          -1.5 -1.0 -0.5 0.0 0.5 1.0 1.5 2.0 -50 -25 0 25 50 75 100\n",
      "125 150 Ga...\n",
      "Score:  0.775\n",
      "\n",
      "Node ID: 6cd86985-f06d-478d-a91e-10d5a4b48941\n",
      "Text: Mode  selection is configured by the mode control register (see\n",
      "Table 1, Table 2 and Table 5). The new channel selection is  valid on\n",
      "the 2nd SCLK falling edge in the next frame in all  three modes (refer\n",
      "to Figure 1).  Once the chip is configured to working in a selected\n",
      "mode,  it keeps working in this mode until the chip is powered down,\n",
      "res...\n",
      "Score:  0.775\n",
      "\n",
      "Node ID: c8e27508-eab2-4c5b-9123-1eadf5c5e4d1\n",
      "Text: TIMING CHARACTERISTICS  (VA = 2.7V to 5.25V, Full = -40℃ to\n",
      "+125℃, unless otherwise noted.) (1) (2) (See Figure 1 and Figure 2)\n",
      "PARAMETER  SYMBOL  CONDITIONS  MIN  TYP  MAX  UNITS  Conversion Time\n",
      "tCONV  VBD = 1.8V      16  SCLK  VBD = 3V      16  VBD = 5V      16\n",
      "Delay Time  (nCS Low to First Data DO15 Out)  t1  VBD = 1.8V      38\n",
      "ns  VBD =...\n",
      "Score:  0.770\n",
      "\n",
      "Node ID: cff41c46-ce75-4d12-b349-04c36aa33342\n",
      "Text: DETAILED DESCRIPTION  Overview  The SGM5200 is a 12-bit, SAR\n",
      "ADC. It needs an external  voltage reference. An Amplifier can be used\n",
      "between MXO  and AINP for signal conditioning. Figure 1 and Figure 2\n",
      "show the chip operating time sequences.   The SGM5200 output data is\n",
      "composed of 4-bit channel  address and 12-bit ADC conversion result.\n",
      "To read...\n",
      "Score:  0.770\n",
      "\n",
      "Node ID: 75fd6189-dac1-4561-a4d3-387a308fd6da\n",
      "Text: ELECTRICAL CHARACTERISTICS  (VA = 2.7V to 5.25V, VBD = 1.7V to\n",
      "VA, VREF = 2.5V ± 0.1V, fSAMPLE = 1MHz, Full = -40℃ to +125℃, typical\n",
      "values are at TA =  +25℃, unless otherwise noted.)\n",
      "Score:  0.768\n",
      "\n",
      "Node ID: a17e26b7-cc12-428b-8f94-3957a0d4a440\n",
      "Text: For  example, 0000 = channel 0, 0001 = channel 1 and so on.\n",
      "0000  DI6  0 = Selects 0V to VREF input range (Range 1)  1 = Selects\n",
      "0V to 2 × VREF input range (Range 2)  0  DI5  0 = Normal operation (no\n",
      "power-down).  1 = Powers down on the 16th SCLK falling edge.  0  DI4\n",
      "0 = SDO outputs current channel address of the channel on DO[15:12],\n",
      "and the...\n",
      "Score:  0.763\n",
      "\n"
     ]
    }
   ],
   "source": [
    "# 使用不同的检索和查询方法\n",
    "from llama_index.core.vector_stores import (\n",
    "    MetadataFilter,\n",
    "    MetadataFilters,\n",
    "    FilterOperator,\n",
    ")\n",
    "from llama_index.core import get_response_synthesizer\n",
    "from llama_index.core.response_synthesizers import ResponseMode\n",
    "from llama_index.core.query_engine import RetrieverQueryEngine\n",
    "\n",
    "# filters = MetadataFilters(\n",
    "#     filters=[\n",
    "#         MetadataFilter(\n",
    "#             key=\"product_name\", operator=FilterOperator.EQ, value=\"SGM5200\"\n",
    "#         ),\n",
    "#         MetadataFilter(\n",
    "#             key=\"product_name\", operator=FilterOperator.EQ, value=\"SGM446\"\n",
    "#         ),\n",
    "#     ],\n",
    "#     condition='or'\n",
    "# )\n",
    "\n",
    "filters = MetadataFilters(\n",
    "    filters=[\n",
    "        MetadataFilter(\n",
    "            key=\"product_name\", operator=FilterOperator.EQ, value=\"SGM5200\"\n",
    "        )\n",
    "    ]\n",
    ")\n",
    "\n",
    "# 构建response synthesizer\n",
    "response_synthesizer = get_response_synthesizer(\n",
    "    response_mode=ResponseMode.COMPACT_ACCUMULATE\n",
    ")\n",
    "\n",
    "questions = \"SGM5200的上电时间需要多久？\"\n",
    "\n",
    "retriever = index.as_retriever(similarity_top_k=10, filters=filters)\n",
    "nodes = retriever.retrieve(questions)\n",
    "for node in nodes:\n",
    "    print(node)\n",
    "\n",
    "# query_engine = index.as_query_engine(similarity_top_k=5, filters = filters)\n",
    "# 构建查询引擎\n",
    "query_engine = RetrieverQueryEngine(\n",
    "    retriever=retriever,\n",
    "    response_synthesizer=response_synthesizer\n",
    ")\n",
    "\n",
    "# response = query_engine.query(questions)\n",
    "# print(response)\n"
   ]
  },
  {
   "cell_type": "code",
   "execution_count": null,
   "metadata": {},
   "outputs": [],
   "source": [
    "# 更新查询引擎中的prompt template\n",
    "query_engine.update_prompts(\n",
    "    {\"response_synthesizer:text_qa_template\": qa_prompt_tmpl,\n",
    "     \"response_synthesizer:refine_template\": refine_prompt_tmpl}\n",
    ")"
   ]
  },
  {
   "cell_type": "code",
   "execution_count": 34,
   "metadata": {},
   "outputs": [],
   "source": [
    "from llama_index.core.tools import QueryEngineTool, ToolMetadata\n",
    "\n",
    "individual_query_engine_tools = [\n",
    "    QueryEngineTool(\n",
    "        query_engine=query_engine,\n",
    "        metadata=ToolMetadata(\n",
    "            name=f\"electronic_search\",\n",
    "            description=(\n",
    "                \"Use this tool when querying electronic components\"\n",
    "            )\n",
    "        ),\n",
    "    )\n",
    "]"
   ]
  },
  {
   "cell_type": "code",
   "execution_count": 35,
   "metadata": {},
   "outputs": [],
   "source": [
    "# 问题分解为子问题\n",
    "from llama_index.core.query_engine import SubQuestionQueryEngine\n",
    "\n",
    "query_engine = SubQuestionQueryEngine.from_defaults(\n",
    "    query_engine_tools=individual_query_engine_tools,\n",
    ")"
   ]
  },
  {
   "cell_type": "code",
   "execution_count": 13,
   "metadata": {},
   "outputs": [
    {
     "name": "stdout",
     "output_type": "stream",
     "text": [
      "Empty Response\n"
     ]
    }
   ],
   "source": [
    "from llama_index.core.postprocessor import KeywordNodePostprocessor\n",
    "\n",
    "node_postprocessors = [\n",
    "    KeywordNodePostprocessor(\n",
    "        required_keywords=[\"SGM42600\"]\n",
    "    )\n",
    "]\n",
    "query_engine = index.as_query_engine(\n",
    "    node_postprocessors=node_postprocessors\n",
    ")\n",
    "response = query_engine.query(\"What are the packaging dimensions of SGM42600?\")\n",
    "print(response)"
   ]
  },
  {
   "cell_type": "code",
   "execution_count": 9,
   "metadata": {},
   "outputs": [
    {
     "name": "stdout",
     "output_type": "stream",
     "text": [
      "**********\n",
      "Trace: query\n",
      "    |_query -> 12.550714 seconds\n",
      "      |_retrieve -> 0.792444 seconds\n",
      "        |_embedding -> 0.620142 seconds\n",
      "      |_synthesize -> 11.757212 seconds\n",
      "        |_templating -> 1.6e-05 seconds\n",
      "        |_llm -> 5.13209 seconds\n",
      "        |_templating -> 2.1e-05 seconds\n",
      "        |_llm -> 6.560989 seconds\n",
      "**********\n",
      "The original question was about selecting a reset chip from SG Micro for an 85°C temperature-controlled crystal oscillator circuit, focusing on size and cost. However, the provided context appears to describe a smart device with a display that indicates battery status using flashing patterns and mentions the SGM41008, which is a 5A high-power driver with charging and battery protection features, as well as火力 regulation and status indication.\n",
      "\n",
      "Although the SGM41008 doesn't seem to be a direct fit for a reset chip, it's from SG Micro and may serve as a reference point for their capabilities in the power management domain. If you're looking for a reset solution, it's best to consult SG Micro's website or contact their technical support for a dedicated reset IC designed for use in an 85°C environment that also prioritizes size and cost.\n",
      "\n",
      "If you need a reset chip specifically, it's crucial to clarify your requirements with SG Micro since the given information about the SGM41008 is not directly applicable to your initial query.\n"
     ]
    }
   ],
   "source": [
    "response = query_engine.query(\n",
    "    # \"What are the packaging dimensions of SGM42600?\"\n",
    "    # \"SGM5200的封装型号和上电时间分别是多少？\",\n",
    "    \"帮我推荐一个5v转3.3v的线性稳压器LDO，并给出该器件的参数\"\n",
    ")\n",
    "print(response)"
   ]
  },
  {
   "cell_type": "code",
   "execution_count": null,
   "metadata": {},
   "outputs": [],
   "source": [
    "# 输出formatted_prompt\n",
    "event_pairs = llama_debug.get_llm_inputs_outputs()\n",
    "print(event_pairs[0][1].payload[\"formatted_prompt\"])"
   ]
  },
  {
   "cell_type": "code",
   "execution_count": 11,
   "metadata": {},
   "outputs": [
    {
     "name": "stdout",
     "output_type": "stream",
     "text": [
      "----------ref----------\n",
      "**********chunk 0 start**********\n",
      "file_name: SGM8425/SGM8426/SGM8428\n",
      "product_name: SGM8425/SGM8426/SGM8428\n",
      "\n",
      "The SGM8425/6/8 are suitable for low power  systems, such as portable and battery-powered  applications.  The SGM8425/6/8 have a bandwidth of 18MHz at -3dB.  They offer fast settling and slewing times. These  devices are well suited for TFT-LCDs.  The SGM8425 is available in Green SOT-23-5, SOIC-8  and MSOP-8 packages. The SGM8426 is available in  Green SOIC-8 and MSOP-8 packages. The SGM8428  is available in Green TSSOP-14 and SOIC-14 packages.  They are rated over the -40℃ to +85℃ temperature  range.    FEATURES  ● Rail-to-Rail Input and Output  ● -3dB Bandwidth: 18MHz  ● High Slew Rate: 16V/µs  ● Supply Current: 1.6mA/Amplifier  ● -40℃ to +85℃ Operating Temperature Range  ● Small Packaging:  SGM8425 Available in SOT-23-5, SOIC-8 and  MSOP-8 Packages  SGM8426 Available in SOIC-8 and MSOP-8  Packages  SGM8428 Available in SOIC-14 and TSSOP-14  Packages    APPLICATIONS  TFT-LCD Drive Circuits  Laptops  Touch-Screen Monitors  Electronics Games  WLANs  Office Automation  Personal Communication Equipment  PDAs  Portable Equipment  A/D Converter Buffers  Active Filters           SGM8425  18MHz, High Voltage, Rail-to-Rail  SGM8426/SGM8428  I/O Operational Amplifiers      2  JUNE 2013  SG Micro Corp  www.sg-micro.com  PACKAGE/ORDERING INFORMATION  MODEL  PACKAGE  DESCRIPTION  SPECIFIED  TEMPERATURE  RANGE  ORDERING  NUMBER  PACKAGE  MARKING  PACKING  OPTION  SGM8425  SOT-23-5  -40℃ to +85℃  SGM8425AYN5G/TR  SN9XX  Tape and Reel, 3000  SOT-23-5  -40℃ to +85℃  SGM8425BYN5G/TR  SICXX  Tape and Reel, 3000  SOIC-8  -40℃ to +85℃  SGM8425YS8G/TR  SGM  8425YS8  XXXXX  Tape and Reel, 2500  MSOP-8  -40℃ to +85℃  SGM8425YMS8G/TR  SGM8425  YMS8  XXXXX  Tape and Reel, 3000  SGM8426  SOIC-8  -40℃ to +85℃  SGM8426YS8G/TR  SGM  8426YS8  XXXXX  Tape and Reel, 2500  MSOP-8  -40℃ to +85℃  SGM8426YMS8G/TR  SGM8426  YMS8  XXXXX  Tape and Reel, 3000  SGM8428  SOIC-14  -40℃ to +85℃  SGM8428YS14G/TR  SGM8428YS14  XXXXX  Tape and Reel, 2500  TSSOP-14  -40℃ to +85℃  SGM8428YTS14G/TR  SGM8428  YTS14  XXXXX  Tape and Reel, 3000    MARKING INFORMATION  NOTE: XX = Date Code.\n",
      "**********chunk 0 end**********\n",
      "**********chunk 1 start**********\n",
      "file_name: SGM42601\n",
      "product_name: SGM42601\n",
      "\n",
      "SGM42601  Dual H-Bridge Motor Driver      SG Micro Corp  www.sg-micro.com  AUGUST 2021 –REV. A. 1  GENERAL DESCRIPTION  The SGM42601 is a motor driver device with two  integrated H-bridges that can run a bipolar stepper  motor. The device can operate over a wide input  voltage range of 2.5V to 12V, and each H-bridge of the  SGM42601 can deliver up to 600mA RMS (or DC)  continuously (at VCC = 5V, TJ = +25℃).  Internal over-current and over-temperature circuits  prevent the device from being in over-stress condition,  while a fault output simplifies stalling sensing, which is  a useful feature for most applications. Aiming for  battery-powered applications, it can go into low-power  mode for increased battery life.  The device is available in a Green TQFN-4×4-16L  package.     APPLICATIONS  Robotics  Point-of-Sale Printers  Portable Printers  Toys  Video Security Cameras    FEATURES  ● Power Supply Voltage Range: 2.5V to 12V  ● Dual H-Bridge Motor Driver  ● Low Quiescent Current: 150μA (TYP)  ● Sleep Mode Supply Current: 0.32μA (TYP)  ● xINx (PWM) Interface  ● Output Current Capability (at VCC = 5V, +25℃)  0.6A RMS, 1A Peak per H-Bridge  1.2A RMS in Parallel Mode  ● UVLO for VCC Voltage  ● Over-Current Protection (OCP)  ● Thermal Shutdown (TSD)  ● Fault Indication Pin (nFAULT)  ● Available in a Green TQFN-4×4-16L Package                 SGM42601  Dual H-Bridge Motor Driver      2  AUGUST 2021    SG Micro Corp  www.sg-micro.com  PACKAGE/ORDERING INFORMATION  MODEL  PACKAGE  DESCRIPTION  SPECIFIED  TEMPERATURE  RANGE  ORDERING  NUMBER  PACKAGE  MARKING  PACKING  OPTION  SGM42601  TQFN-4×4-16L  -40℃ to +125℃  SGM42601XTQE16G/TR  SGM42601  XTQE16  XXXXX  Tape and Reel, 3000     MARKING INFORMATION  NOTE: XXXXX = Date Code, Trace Code and Vendor Code.  Trace Code  Vendor Code  Date Code - Year X X X X X     Green (RoHS & HSF): SG Micro Corp defines Green to mean Pb-Free (RoHS compatible) and free of halogen substances. If  you have additional comments or questions, please contact your SGMICRO representative directly.\n",
      "**********chunk 1 end**********\n",
      "----------ref----------\n"
     ]
    }
   ],
   "source": [
    "# 检索相似度前五的片段\n",
    "contexts = query_engine.retrieve(QueryBundle(\"What are the packaging dimensions of SGM42600?\"))\n",
    "print('-'*10 + 'ref' + '-'*10)\n",
    "for i, context in enumerate(contexts):\n",
    "    print('*'*10 + f'chunk {i} start' + '*'*10)\n",
    "    content = context.node.get_content(metadata_mode=MetadataMode.LLM)\n",
    "    print(content)\n",
    "    print('*' * 10 + f'chunk {i} end' + '*' * 10)\n",
    "print('-'*10 + 'ref' + '-'*10)"
   ]
  }
 ],
 "metadata": {
  "kernelspec": {
   "display_name": "kg",
   "language": "python",
   "name": "python3"
  },
  "language_info": {
   "codemirror_mode": {
    "name": "ipython",
    "version": 3
   },
   "file_extension": ".py",
   "mimetype": "text/x-python",
   "name": "python",
   "nbconvert_exporter": "python",
   "pygments_lexer": "ipython3",
   "version": "3.8.19"
  }
 },
 "nbformat": 4,
 "nbformat_minor": 2
}
